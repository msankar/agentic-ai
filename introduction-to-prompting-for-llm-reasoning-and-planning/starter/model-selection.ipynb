{
 "cells": [
  {
   "cell_type": "markdown",
   "metadata": {},
   "source": [
    "# Organize Your Workspace Space\n",
    "\n",
    "Before we get started on our course, let's take some time to set up and tidy our workspace. As an agentic twist on the matter, we will guide a Large Language Model (LLM) through a series of prompt refinements to create a practical plan to organize your personal work area.\n",
    "\n",
    "## Outline\n",
    "\n",
    "1. Start with a generic prompt\n",
    "2. Add a professional role\n",
    "3. Introduce concrete constraints\n",
    "4. Bonus: Apply what you've learned"
   ]
  },
  {
   "cell_type": "code",
   "metadata": {
    "ExecuteTime": {
     "end_time": "2025-10-05T20:17:25.589821Z",
     "start_time": "2025-10-05T20:17:25.427939Z"
    }
   },
   "source": [
    "# Import necessary libraries\n",
    "# No changes needed in this cell\n",
    "from openai import OpenAI\n",
    "from IPython.display import Markdown, display\n",
    "import os"
   ],
   "outputs": [],
   "execution_count": 1
  },
  {
   "cell_type": "code",
   "metadata": {
    "ExecuteTime": {
     "end_time": "2025-10-05T20:17:25.623439Z",
     "start_time": "2025-10-05T20:17:25.603770Z"
    }
   },
   "source": [
    "# If using the Vocareum API endpoint\n",
    "# TODO: Fill in the missing parts marked with **********\n",
    "\n",
    "client = OpenAI(\n",
    "    base_url=\"https://openai.vocareum.com/v1\",\n",
    "    # Uncomment one of the following\n",
    "    api_key = \"voc-\"\n",
    "    # api_key=\"**********\",  # <--- TODO: Fill in your Vocareum API key here\n",
    "    # api_key=os.getenv(\n",
    "    #     \"OPENAI_API_KEY\"\n",
    "    # ),  # <-- Alternately, set as an environment variable\n",
    ")\n",
    "\n",
    "# If using OpenAI's API endpoint\n",
    "# client = OpenAI()\n"
   ],
   "outputs": [],
   "execution_count": 2
  },
  {
   "cell_type": "code",
   "metadata": {
    "ExecuteTime": {
     "end_time": "2025-10-05T20:17:28.334568Z",
     "start_time": "2025-10-05T20:17:28.328991Z"
    }
   },
   "source": [
    "from enum import Enum\n",
    "\n",
    "\n",
    "class OpenAIModels(str, Enum):\n",
    "    GPT_4O_MINI = \"gpt-4o-mini\"\n",
    "    GPT_41_MINI = \"gpt-4.1-mini\"\n",
    "    GPT_41_NANO = \"gpt-4.1-nano\"\n",
    "\n",
    "# Choose a different model to see different results\n",
    "MODEL = OpenAIModels.GPT_41_MINI\n",
    "\n",
    "def get_completion(system_prompt, user_prompt, model=MODEL):\n",
    "    \"\"\"\n",
    "    Function to get a completion from the OpenAI API.\n",
    "    Args:\n",
    "        system_prompt: The system prompt\n",
    "        user_prompt: The user prompt\n",
    "        model: The model to use (default is gpt-4.1-mini. change to gpt-4o-mini or gpt-4.1-nano for different results)\n",
    "    Returns:\n",
    "        The completion text\n",
    "    \"\"\"\n",
    "    messages = [\n",
    "        {\"role\": \"user\", \"content\": user_prompt},\n",
    "    ]\n",
    "    if system_prompt is not None:\n",
    "        messages = [\n",
    "            {\"role\": \"system\", \"content\": system_prompt},\n",
    "            *messages,\n",
    "        ]\n",
    "    try:\n",
    "        response = client.chat.completions.create(\n",
    "            model=model,\n",
    "            messages=messages,\n",
    "            temperature=0.7,\n",
    "        )\n",
    "        return response.choices[0].message.content\n",
    "    except Exception as e:\n",
    "        return f\"An error occurred: {e}\"\n",
    "\n",
    "\n",
    "def display_responses(*args):\n",
    "    \"\"\"Helper function to display responses as Markdown, horizontally.\"\"\"\n",
    "    markdown_string = \"<table><tr>\"\n",
    "    # Headers\n",
    "    for arg in args:\n",
    "        markdown_string += f\"<th>System Prompt:<br />{arg['system_prompt']}<br /><br />\"\n",
    "        markdown_string += f\"User Prompt:<br />{arg['user_prompt']}</th>\"\n",
    "    markdown_string += \"</tr>\"\n",
    "    # Rows\n",
    "    markdown_string += \"<tr>\"\n",
    "    for arg in args:\n",
    "        markdown_string += f\"<td>Response:<br />{arg['response']}</td>\"\n",
    "    markdown_string += \"</tr></table>\"\n",
    "    display(Markdown(markdown_string))"
   ],
   "outputs": [],
   "execution_count": 3
  },
  {
   "cell_type": "markdown",
   "metadata": {},
   "source": [
    "## 1. Generic Prompt\n",
    "\n",
    "First, let's see what the model produces with a basic prompt."
   ]
  },
  {
   "cell_type": "code",
   "metadata": {
    "ExecuteTime": {
     "end_time": "2025-10-05T20:17:37.543673Z",
     "start_time": "2025-10-05T20:17:32.371108Z"
    }
   },
   "source": [
    "# No changes needed in this cell\n",
    "plain_system_prompt = \"You are a helpful assistant.\"  # A generic system prompt\n",
    "user_prompt = \"Give me a simple plan to declutter and organize my workspace.\"\n",
    "\n",
    "print(f\"Sending prompt to {MODEL} model...\")\n",
    "baseline_response = get_completion(plain_system_prompt, user_prompt)\n",
    "print(\"Response received!\\n\")\n",
    "\n",
    "display_responses(\n",
    "    {\n",
    "        \"system_prompt\": plain_system_prompt,\n",
    "        \"user_prompt\": user_prompt,\n",
    "        \"response\": baseline_response,\n",
    "    }\n",
    ")"
   ],
   "outputs": [
    {
     "name": "stdout",
     "output_type": "stream",
     "text": [
      "Sending prompt to OpenAIModels.GPT_41_MINI model...\n",
      "Response received!\n",
      "\n"
     ]
    },
    {
     "data": {
      "text/plain": [
       "<IPython.core.display.Markdown object>"
      ],
      "text/markdown": "<table><tr><th>System Prompt:<br />You are a helpful assistant.<br /><br />User Prompt:<br />Give me a simple plan to declutter and organize my workspace.</th></tr><tr><td>Response:<br />Certainly! Here's a simple plan to declutter and organize your workspace:\n\n1. **Clear Everything Off**  \n   Remove all items from your desk and workspace. This gives you a blank slate to work with.\n\n2. **Sort Items into Categories**  \n   Group items into categories such as:\n   - Essentials (things you use daily)\n   - Occasionally used items\n   - Non-essential or rarely used items\n   - Trash or things to donate\n\n3. **Clean Your Workspace**  \n   Wipe down your desk, keyboard, monitor, and any other surfaces.\n\n4. **Organize Essentials**  \n   Place daily-use items within easy reach. Use desk organizers, trays, or containers to keep them tidy.\n\n5. **Store Occasionally Used Items**  \n   Find a drawer, shelf, or storage box for items you don’t use every day but need to keep.\n\n6. **Remove Non-Essentials**  \n   Donate, recycle, or discard items you no longer need.\n\n7. **Create a System for Paperwork**  \n   Use files, folders, or an inbox tray to manage documents.\n\n8. **Maintain Regularly**  \n   Spend 5-10 minutes at the end of each day tidying up to keep your workspace organized.\n\nWould you like tips on specific organizing tools or methods?</td></tr></table>"
     },
     "metadata": {},
     "output_type": "display_data",
     "jetTransient": {
      "display_id": null
     }
    }
   ],
   "execution_count": 4
  },
  {
   "cell_type": "markdown",
   "metadata": {},
   "source": [
    "## 2. Add a Professional Role\n",
    "\n",
    "Now, let's add a professional role to see how it affects the response.\n",
    "\n",
    "<div style=\"color: red\">NOTE: We will use the same user prompt for these examples. All you need to do is vary the system prompt, which is where one would normally define the role for an LLM.</div>"
   ]
  },
  {
   "cell_type": "code",
   "metadata": {
    "ExecuteTime": {
     "end_time": "2025-10-05T20:17:41.348540Z",
     "start_time": "2025-10-05T20:17:37.559984Z"
    }
   },
   "source": [
    "# TODO: Write a system prompt starting with \"You are...\" replacing the ***********\n",
    "role_system_prompt = \"You are a certified professional organizer.\"\n",
    "\n",
    "print(\"Sending prompt with professional role...\")\n",
    "role_response = get_completion(role_system_prompt, user_prompt)\n",
    "print(\"Response received!\\n\")\n",
    "\n",
    "# Show last two prompts and responses\n",
    "display_responses(\n",
    "    {\n",
    "        \"system_prompt\": plain_system_prompt,\n",
    "        \"user_prompt\": user_prompt,\n",
    "        \"response\": baseline_response,\n",
    "    },\n",
    "    {\n",
    "        \"system_prompt\": role_system_prompt,\n",
    "        \"user_prompt\": user_prompt,\n",
    "        \"response\": role_response,\n",
    "    },\n",
    ")"
   ],
   "outputs": [
    {
     "name": "stdout",
     "output_type": "stream",
     "text": [
      "Sending prompt with professional role...\n",
      "Response received!\n",
      "\n"
     ]
    },
    {
     "data": {
      "text/plain": [
       "<IPython.core.display.Markdown object>"
      ],
      "text/markdown": "<table><tr><th>System Prompt:<br />You are a helpful assistant.<br /><br />User Prompt:<br />Give me a simple plan to declutter and organize my workspace.</th><th>System Prompt:<br />You are a certified professional organizer.<br /><br />User Prompt:<br />Give me a simple plan to declutter and organize my workspace.</th></tr><tr><td>Response:<br />Certainly! Here's a simple plan to declutter and organize your workspace:\n\n1. **Clear Everything Off**  \n   Remove all items from your desk and workspace. This gives you a blank slate to work with.\n\n2. **Sort Items into Categories**  \n   Group items into categories such as:\n   - Essentials (things you use daily)\n   - Occasionally used items\n   - Non-essential or rarely used items\n   - Trash or things to donate\n\n3. **Clean Your Workspace**  \n   Wipe down your desk, keyboard, monitor, and any other surfaces.\n\n4. **Organize Essentials**  \n   Place daily-use items within easy reach. Use desk organizers, trays, or containers to keep them tidy.\n\n5. **Store Occasionally Used Items**  \n   Find a drawer, shelf, or storage box for items you don’t use every day but need to keep.\n\n6. **Remove Non-Essentials**  \n   Donate, recycle, or discard items you no longer need.\n\n7. **Create a System for Paperwork**  \n   Use files, folders, or an inbox tray to manage documents.\n\n8. **Maintain Regularly**  \n   Spend 5-10 minutes at the end of each day tidying up to keep your workspace organized.\n\nWould you like tips on specific organizing tools or methods?</td><td>Response:<br />Certainly! Here’s a simple plan to declutter and organize your workspace in 5 easy steps:\n\n1. **Clear Everything Off**  \n   Remove all items from your desk and workspace. This helps you start fresh and see what you actually have.\n\n2. **Sort and Categorize**  \n   Group items into categories such as:\n   - Essentials (daily use)\n   - Occasionally used\n   - Trash/recycle\n   - Items to relocate elsewhere\n\n3. **Declutter**  \n   Get rid of anything broken, outdated, or unnecessary. Be honest about what you really need.\n\n4. **Organize by Function**  \n   Arrange your essentials within arm’s reach. Use organizers like trays, drawer dividers, or containers to keep similar items together.\n\n5. **Maintain Daily**  \n   At the end of each day, do a quick 5-minute tidy-up to keep clutter from building back up.\n\nWould you like tips on specific organizing tools or ideas tailored to your type of work?</td></tr></table>"
     },
     "metadata": {},
     "output_type": "display_data",
     "jetTransient": {
      "display_id": null
     }
    }
   ],
   "execution_count": 5
  },
  {
   "cell_type": "markdown",
   "metadata": {},
   "source": [
    "## 3. Add Constraints\n",
    "\n",
    "Let's add specific constraints to see how the model prioritizes tasks. Let's add a time constraint, a budget constraint, and other constraints that are important for you."
   ]
  },
  {
   "cell_type": "code",
   "metadata": {
    "ExecuteTime": {
     "end_time": "2025-10-05T20:17:52.151590Z",
     "start_time": "2025-10-05T20:17:44.503826Z"
    }
   },
   "source": [
    "# TODO: Write a constraints system prompt replacing the ***********\n",
    "constraints_system_prompt = f\"\"\" {role_system_prompt}. I have only 15 minutes, a $20 budget, and limited floor space;\n",
    "I want to keep sentimental items but maximize desk surface.\"\"\"\n",
    "\n",
    "print(\"Sending prompt with constraints...\")\n",
    "constraints_response = get_completion(constraints_system_prompt, user_prompt)\n",
    "print(\"Response received!\\n\")\n",
    "\n",
    "# Show last two prompts and responses\n",
    "display_responses(\n",
    "    {\n",
    "        \"system_prompt\": role_system_prompt,\n",
    "        \"user_prompt\": user_prompt,\n",
    "        \"response\": role_response,\n",
    "    },\n",
    "    {\n",
    "        \"system_prompt\": constraints_system_prompt,\n",
    "        \"user_prompt\": user_prompt,\n",
    "        \"response\": constraints_response,\n",
    "    },\n",
    ")"
   ],
   "outputs": [
    {
     "name": "stdout",
     "output_type": "stream",
     "text": [
      "Sending prompt with constraints...\n",
      "Response received!\n",
      "\n"
     ]
    },
    {
     "data": {
      "text/plain": [
       "<IPython.core.display.Markdown object>"
      ],
      "text/markdown": "<table><tr><th>System Prompt:<br />You are a certified professional organizer.<br /><br />User Prompt:<br />Give me a simple plan to declutter and organize my workspace.</th><th>System Prompt:<br /> You are a certified professional organizer.. I have only 15 minutes, a $20 budget, and limited floor space;\nI want to keep sentimental items but maximize desk surface.<br /><br />User Prompt:<br />Give me a simple plan to declutter and organize my workspace.</th></tr><tr><td>Response:<br />Certainly! Here’s a simple plan to declutter and organize your workspace in 5 easy steps:\n\n1. **Clear Everything Off**  \n   Remove all items from your desk and workspace. This helps you start fresh and see what you actually have.\n\n2. **Sort and Categorize**  \n   Group items into categories such as:\n   - Essentials (daily use)\n   - Occasionally used\n   - Trash/recycle\n   - Items to relocate elsewhere\n\n3. **Declutter**  \n   Get rid of anything broken, outdated, or unnecessary. Be honest about what you really need.\n\n4. **Organize by Function**  \n   Arrange your essentials within arm’s reach. Use organizers like trays, drawer dividers, or containers to keep similar items together.\n\n5. **Maintain Daily**  \n   At the end of each day, do a quick 5-minute tidy-up to keep clutter from building back up.\n\nWould you like tips on specific organizing tools or ideas tailored to your type of work?</td><td>Response:<br />Absolutely! Here's a quick and budget-friendly plan to declutter and organize your workspace while preserving sentimental items and maximizing your desk surface:\n\n### 15-Minute Declutter & Organize Plan\n\n#### What You'll Need (within $20):\n- Small storage bins or trays ($10 max)\n- Desk organizer or multi-compartment caddy ($10 max)\n- Sticky notes or labels (optional, inexpensive)\n\n---\n\n### Step 1: Clear Your Desk Surface (5 minutes)\n- Quickly remove everything from your desk and place items in three piles:\n  1. **Essentials** (items you use daily)\n  2. **Sentimental items** (photos, keepsakes)\n  3. **Other clutter** (papers, random objects)\n- Wipe down your desk surface to start fresh.\n\n### Step 2: Sort Sentimental Items (3 minutes)\n- Choose a small, attractive container or tray for your sentimental items. This keeps them visible but contained.\n- Limit the number of sentimental items on your desk to 3-5 favorites to avoid overcrowding.\n\n### Step 3: Organize Essentials (5 minutes)\n- Use a desk organizer or caddy to store pens, notepads, and frequently used tools.\n- Keep only daily-use electronics or chargers on the desk; store others elsewhere.\n\n### Step 4: Deal with Other Clutter (2 minutes)\n- Quickly sort the remaining clutter: file important papers, recycle trash, and store rarely used items away.\n- If you don’t have a filing system, use an inexpensive file folder or box within your budget.\n\n---\n\n### Bonus Tips:\n- Vertical space is your friend. Use wall-mounted organizers or small shelves if possible.\n- Keep a small trash/recycling bin nearby to maintain cleanliness.\n\nYou’ll have a tidy, functional desk and preserved sentimental items—all within your time and budget! Want product recommendations?</td></tr></table>"
     },
     "metadata": {},
     "output_type": "display_data",
     "jetTransient": {
      "display_id": null
     }
    }
   ],
   "execution_count": 6
  },
  {
   "cell_type": "markdown",
   "metadata": {},
   "source": [
    "## Bonus: Apply what you've learned\n",
    "\n",
    "Try crafting a prompt for one of your own ideas or even a different organization task (e.g., digital file cleanup, closet overhaul)!"
   ]
  },
  {
   "cell_type": "code",
   "execution_count": 8,
   "metadata": {},
   "outputs": [
    {
     "name": "stdout",
     "output_type": "stream",
     "text": [
      "Sending custom prompt...\n",
      "Response received!\n",
      "\n"
     ]
    },
    {
     "data": {
      "text/markdown": [
       "<table><tr><th>System Prompt:<br />\n",
       "You are a best-selling writer.\n",
       "\n",
       "In general:\n",
       "- You always explain your overall reasoning before providing the answer to a user's question.\n",
       "- Always conclude with a list of action items when asked for advice.\n",
       "- Do not end with a final question or sentence after this list of action items.\n",
       "\n",
       "\n",
       "<br /><br />User Prompt:<br />\n",
       "Please generate a list of 10 ideas for an article about the benefits of meditation\n",
       "that millions of people will read and benefit from. The article is for a technical audience. \n",
       "</th></tr><tr><td>Response:<br />To generate a compelling list of article ideas about the benefits of meditation tailored for a technical audience, I need to consider what aspects resonate with individuals who are often analytical, detail-oriented, and interested in scientific validation. The key is to frame meditation not just as a spiritual or relaxation practice but as a scientifically supported method that influences brain function, cognitive performance, and even technological applications.\n",
       "\n",
       "Here's my reasoning for the ideas:\n",
       "\n",
       "1. **Neuroscientific Insights into Meditation: How Brain Plasticity Is Enhanced**  \n",
       "   - Focus on recent neuroimaging studies showing structural changes in the brain due to meditation, appealing to a scientifically inclined audience.\n",
       "\n",
       "2. **Quantifying the Cognitive Benefits of Meditation: Evidence from Machine Learning and Data Analytics**  \n",
       "   - Explore how data-driven approaches measure improvements in attention, memory, and decision-making.\n",
       "\n",
       "3. **Meditation and Signal Processing: Improving Focus and Reducing Noise in Neural Data**  \n",
       "   - Draw parallels between meditation's effect on neural noise and techniques used in signal processing, appealing to tech-savvy readers.\n",
       "\n",
       "4. **The Role of Meditation in Stress Reduction: Implications for Workplace Productivity and Health**  \n",
       "   - Present data on stress biomarkers and productivity metrics, relevant for professionals interested in health tech or organizational efficiency.\n",
       "\n",
       "5. **Biometric Monitoring of Meditation: How Wearables Are Quantifying Inner States**  \n",
       "   - Discuss the integration of wearable tech and AI to monitor physiological changes during meditation.\n",
       "\n",
       "6. **Cognitive Enhancement Through Meditation: Potential Applications in AI Development and Human-Computer Interaction**  \n",
       "   - Delve into how meditation-trained cognitive functions could inform AI algorithms and HCI design.\n",
       "\n",
       "7. **Neurofeedback and Meditation: Augmenting Brain Training with Technology**  \n",
       "   - Explain how neurofeedback devices combined with meditation can accelerate mental training.\n",
       "\n",
       "8. **Meditation as a Tool for Enhancing Focus in High-Performance Computing Environments**  \n",
       "   - Investigate how meditation practices can improve concentration for developers, data scientists, and engineers.\n",
       "\n",
       "9. **The Intersection of Meditation and Bioinformatics: Unlocking the Genetic and Epigenetic Effects**  \n",
       "   - Explore emerging research on meditation’s influence on gene expression and health data.\n",
       "\n",
       "10. **Designing Meditation Apps with Evidence-Based Techniques: A Guide for Developers and Innovators**  \n",
       "    - Offer insights into creating effective meditation tools grounded in scientific research, appealing to entrepreneurs and developers.\n",
       "\n",
       "### Action Items:\n",
       "- Focus the articles on scientific evidence, data analysis, and technological applications.\n",
       "- Include recent studies, data visualizations, or case studies to enhance credibility.\n",
       "- Use technical language appropriate for a professional audience.\n",
       "- Consider integrating examples of current technologies or research tools related to meditation.\n",
       "\n",
       "This approach will ensure the article ideas are engaging, informative, and valuable for millions of readers interested in the intersection of meditation and technology.</td></tr></table>"
      ],
      "text/plain": [
       "<IPython.core.display.Markdown object>"
      ]
     },
     "metadata": {},
     "output_type": "display_data"
    }
   ],
   "source": [
    "# Create your own prompts here!\n",
    "\n",
    "# TODO: Replace the ***********\n",
    "custom_system_prompt = \"\"\"\n",
    "You are a best-selling writer.\n",
    "\n",
    "In general:\n",
    "- You always explain your overall reasoning before providing the answer to a user's question.\n",
    "- Always conclude with a list of action items when asked for advice.\n",
    "- Do not end with a final question or sentence after this list of action items.\n",
    "\n",
    "\n",
    "\"\"\"\n",
    "user_prompt = \"\"\"\n",
    "Please generate a list of 10 ideas for an article about the benefits of meditation\n",
    "that millions of people will read and benefit from. The article is for a technical audience. \n",
    "\"\"\"\n",
    "\n",
    "# Uncomment the lines below to run your custom prompt\n",
    "print(\"Sending custom prompt...\")\n",
    "custom_response = get_completion(custom_system_prompt, user_prompt)\n",
    "print(\"Response received!\\n\")\n",
    "\n",
    "display_responses(\n",
    "    {\n",
    "        \"system_prompt\": custom_system_prompt,\n",
    "        \"user_prompt\": user_prompt,\n",
    "        \"response\": custom_response,\n",
    "    }\n",
    ")"
   ]
  },
  {
   "cell_type": "markdown",
   "metadata": {},
   "source": [
    "## Summary\n",
    "\n",
    "In this exercise, we explored how different prompt refinements affect the output of an LLM:\n",
    "\n",
    "1. **Generic Prompt**: We started with a simple request for a workspace organization plan.\n",
    "2. **Professional Role**: We added a specific role to enhance expertise and authority.\n",
    "3. **Concrete Constraints**: We introduced specific limitations that required prioritization.\n",
    "4. **Step-by-Step Reasoning**: We requested explicit reasoning to understand the model's thought process.\n",
    "\n",
    "These techniques demonstrate how prompt engineering can significantly improve the usefulness and relevance of AI-generated content for specific needs.\n",
    "\n",
    "Excellent Work! 🚀"
   ]
  }
 ],
 "metadata": {
  "kernelspec": {
   "display_name": ".venv",
   "language": "python",
   "name": "python3"
  },
  "language_info": {
   "codemirror_mode": {
    "name": "ipython",
    "version": 3
   },
   "file_extension": ".py",
   "mimetype": "text/x-python",
   "name": "python",
   "nbconvert_exporter": "python",
   "pygments_lexer": "ipython3",
   "version": "3.12.6"
  }
 },
 "nbformat": 4,
 "nbformat_minor": 4
}

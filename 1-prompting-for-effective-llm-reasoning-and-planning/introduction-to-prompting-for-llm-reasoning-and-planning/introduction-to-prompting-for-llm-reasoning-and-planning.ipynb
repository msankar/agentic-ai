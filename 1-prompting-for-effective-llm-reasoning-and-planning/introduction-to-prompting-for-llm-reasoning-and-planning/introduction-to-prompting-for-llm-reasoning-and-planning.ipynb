{
 "cells": [
  {
   "cell_type": "markdown",
   "metadata": {},
   "source": [
    "# Pre-Lesson Exercise: Organize Your Workspace Space Kick-Off\n",
    "\n",
    "Before we get started on our course, let's take some time to set up and tidy our workspace. As an agentic twist on the matter, we will guide a Large Language Model (LLM) through a series of prompt refinements to create a practical plan to organize your personal work area.\n",
    "\n",
    "## Outline\n",
    "\n",
    "1. Start with a generic prompt\n",
    "2. Add a professional role\n",
    "3. Introduce concrete constraints\n",
    "4. Bonus: Apply what you've learned"
   ]
  },
  {
   "cell_type": "code",
   "metadata": {
    "ExecuteTime": {
     "end_time": "2025-11-01T17:29:37.729861Z",
     "start_time": "2025-11-01T17:29:37.540685Z"
    }
   },
   "source": [
    "# Import necessary libraries\n",
    "# No changes needed in this cell\n",
    "from openai import OpenAI\n",
    "from IPython.display import Markdown, display\n",
    "import os"
   ],
   "outputs": [],
   "execution_count": 2
  },
  {
   "cell_type": "code",
   "metadata": {
    "ExecuteTime": {
     "end_time": "2025-11-01T17:24:03.855171Z",
     "start_time": "2025-10-05T20:11:19.087723Z"
    }
   },
   "source": [
    "# If using the Vocareum API endpoint\n",
    "# TODO: Fill in the missing parts marked with **********\n",
    "\n",
    "client = OpenAI(\n",
    "    base_url=\"https://openai.vocareum.com/v1\",\n",
    "    api_key = \"voc-\"\n",
    "    # Uncomment one of the following\n",
    "    # api_key=\"**********\",  # <--- TODO: Fill in your Vocareum API key here\n",
    "    # api_key=os.getenv(\n",
    "    #     \"OPENAI_API_KEY\"\n",
    "    # ),  # <-- Alternately, set as an environment variable\n",
    ")\n",
    "\n",
    "# If using OpenAI's API endpoint\n",
    "# client = OpenAI()\n"
   ],
   "outputs": [],
   "execution_count": 3
  },
  {
   "cell_type": "code",
   "metadata": {
    "ExecuteTime": {
     "end_time": "2025-11-01T17:24:03.856040Z",
     "start_time": "2025-10-05T20:11:27.055387Z"
    }
   },
   "source": [
    "# No changes needed in this cell\n",
    "from enum import Enum\n",
    "\n",
    "\n",
    "class OpenAIModels(str, Enum):\n",
    "    GPT_4O_MINI = \"gpt-4o-mini\"\n",
    "    GPT_41_MINI = \"gpt-4.1-mini\"\n",
    "    GPT_41_NANO = \"gpt-4.1-nano\"\n",
    "\n",
    "\n",
    "MODEL = OpenAIModels.GPT_41_NANO\n",
    "\n",
    "\n",
    "def get_completion(system_prompt, user_prompt, model=MODEL):\n",
    "    \"\"\"\n",
    "    Function to get a completion from the OpenAI API.\n",
    "    Args:\n",
    "        system_prompt: The system prompt\n",
    "        user_prompt: The user prompt\n",
    "        model: The model to use (default is gpt-4.1-mini)\n",
    "    Returns:\n",
    "        The completion text\n",
    "    \"\"\"\n",
    "    messages = [\n",
    "        {\"role\": \"user\", \"content\": user_prompt},\n",
    "    ]\n",
    "    if system_prompt is not None:\n",
    "        messages = [\n",
    "            {\"role\": \"system\", \"content\": system_prompt},\n",
    "            *messages,\n",
    "        ]\n",
    "    try:\n",
    "        response = client.chat.completions.create(\n",
    "            model=model,\n",
    "            messages=messages,\n",
    "            temperature=0.7,\n",
    "        )\n",
    "        return response.choices[0].message.content\n",
    "    except Exception as e:\n",
    "        return f\"An error occurred: {e}\"\n",
    "\n",
    "\n",
    "def display_responses(*args):\n",
    "    \"\"\"Helper function to display responses as Markdown, horizontally.\"\"\"\n",
    "    markdown_string = \"<table><tr>\"\n",
    "    # Headers\n",
    "    for arg in args:\n",
    "        markdown_string += f\"<th>System Prompt:<br />{arg['system_prompt']}<br /><br />\"\n",
    "        markdown_string += f\"User Prompt:<br />{arg['user_prompt']}</th>\"\n",
    "    markdown_string += \"</tr>\"\n",
    "    # Rows\n",
    "    markdown_string += \"<tr>\"\n",
    "    for arg in args:\n",
    "        markdown_string += f\"<td>Response:<br />{arg['response']}</td>\"\n",
    "    markdown_string += \"</tr></table>\"\n",
    "    display(Markdown(markdown_string))"
   ],
   "outputs": [],
   "execution_count": 4
  },
  {
   "cell_type": "markdown",
   "metadata": {},
   "source": [
    "## 1. Generic Prompt\n",
    "\n",
    "First, let's see what the model produces with a basic prompt."
   ]
  },
  {
   "cell_type": "code",
   "metadata": {
    "ExecuteTime": {
     "end_time": "2025-11-01T17:24:03.856373Z",
     "start_time": "2025-10-05T20:11:50.485532Z"
    }
   },
   "source": [
    "# No changes needed in this cell\n",
    "plain_system_prompt = \"You are a helpful assistant.\"  # A generic system prompt\n",
    "user_prompt = \"Give me a simple plan to declutter and organize my workspace.\"\n",
    "\n",
    "print(f\"Sending prompt to {MODEL} model...\")\n",
    "baseline_response = get_completion(plain_system_prompt, user_prompt)\n",
    "print(\"Response received!\\n\")\n",
    "\n",
    "display_responses(\n",
    "    {\n",
    "        \"system_prompt\": plain_system_prompt,\n",
    "        \"user_prompt\": user_prompt,\n",
    "        \"response\": baseline_response,\n",
    "    }\n",
    ")"
   ],
   "outputs": [
    {
     "name": "stdout",
     "output_type": "stream",
     "text": [
      "Sending prompt to OpenAIModels.GPT_41_NANO model...\n",
      "Response received!\n",
      "\n"
     ]
    },
    {
     "data": {
      "text/plain": [
       "<IPython.core.display.Markdown object>"
      ],
      "text/markdown": "<table><tr><th>System Prompt:<br />You are a helpful assistant.<br /><br />User Prompt:<br />Give me a simple plan to declutter and organize my workspace.</th></tr><tr><td>Response:<br />Certainly! Here's a simple step-by-step plan to declutter and organize your workspace:\n\n1. **Set a Timer:** Dedicate a specific amount of time (e.g., 30 minutes to an hour) to work on decluttering so it feels manageable.\n\n2. **Clear the Surface:** Remove everything from your desk or workspace surface. Place items into categories: keep, donate/discard, or relocate.\n\n3. **Sort Items:**\n   - Keep only essentials and items you use daily.\n   - Discard or donate items you no longer need.\n   - Relocate items that belong elsewhere.\n\n4. **Clean the Space:** Wipe down your desk, shelves, and any other surfaces to create a fresh environment.\n\n5. **Organize Keep Items:**\n   - Use organizers, trays, or drawers to store supplies.\n   - Arrange items thoughtfully so frequently used tools are within easy reach.\n\n6. **Create Zones:** Designate specific areas for different activities (e.g., work, storage, supplies).\n\n7. **Maintain Regularly:** Schedule a quick weekly tidy-up to keep your workspace organized.\n\nWould you like tips on specific storage solutions or how to keep your workspace clutter-free long-term?</td></tr></table>"
     },
     "metadata": {},
     "output_type": "display_data",
     "jetTransient": {
      "display_id": null
     }
    }
   ],
   "execution_count": 5
  },
  {
   "cell_type": "markdown",
   "metadata": {},
   "source": [
    "## 2. Add a Professional Role\n",
    "\n",
    "Now, let's add a professional role to see how it affects the response.\n",
    "\n",
    "<div style=\"color: red\">NOTE: We will use the same user prompt for these examples. All you need to do is vary the system prompt, which is where one would normally define the role for an LLM.</div>"
   ]
  },
  {
   "cell_type": "code",
   "metadata": {
    "ExecuteTime": {
     "end_time": "2025-11-01T17:24:03.857170Z",
     "start_time": "2025-10-05T20:12:57.749632Z"
    }
   },
   "source": [
    "# TODO: Write a system prompt starting with \"You are...\" replacing the ***********\n",
    "role_system_prompt = \"You are an expert professional organizer and productivity coach\"\n",
    "\n",
    "print(\"Sending prompt with professional role...\")\n",
    "role_response = get_completion(role_system_prompt, user_prompt)\n",
    "print(\"Response received!\\n\")\n",
    "\n",
    "# Show last two prompts and responses\n",
    "display_responses(\n",
    "    {\n",
    "        \"system_prompt\": plain_system_prompt,\n",
    "        \"user_prompt\": user_prompt,\n",
    "        \"response\": baseline_response,\n",
    "    },\n",
    "    {\n",
    "        \"system_prompt\": role_system_prompt,\n",
    "        \"user_prompt\": user_prompt,\n",
    "        \"response\": role_response,\n",
    "    },\n",
    ")"
   ],
   "outputs": [
    {
     "name": "stdout",
     "output_type": "stream",
     "text": [
      "Sending prompt with professional role...\n",
      "Response received!\n",
      "\n"
     ]
    },
    {
     "data": {
      "text/plain": [
       "<IPython.core.display.Markdown object>"
      ],
      "text/markdown": "<table><tr><th>System Prompt:<br />You are a helpful assistant.<br /><br />User Prompt:<br />Give me a simple plan to declutter and organize my workspace.</th><th>System Prompt:<br />You are an expert professional organizer and productivity coach<br /><br />User Prompt:<br />Give me a simple plan to declutter and organize my workspace.</th></tr><tr><td>Response:<br />Certainly! Here's a simple step-by-step plan to declutter and organize your workspace:\n\n1. **Set a Timer:** Dedicate a specific amount of time (e.g., 30 minutes to an hour) to work on decluttering so it feels manageable.\n\n2. **Clear the Surface:** Remove everything from your desk or workspace surface. Place items into categories: keep, donate/discard, or relocate.\n\n3. **Sort Items:**\n   - Keep only essentials and items you use daily.\n   - Discard or donate items you no longer need.\n   - Relocate items that belong elsewhere.\n\n4. **Clean the Space:** Wipe down your desk, shelves, and any other surfaces to create a fresh environment.\n\n5. **Organize Keep Items:**\n   - Use organizers, trays, or drawers to store supplies.\n   - Arrange items thoughtfully so frequently used tools are within easy reach.\n\n6. **Create Zones:** Designate specific areas for different activities (e.g., work, storage, supplies).\n\n7. **Maintain Regularly:** Schedule a quick weekly tidy-up to keep your workspace organized.\n\nWould you like tips on specific storage solutions or how to keep your workspace clutter-free long-term?</td><td>Response:<br />Absolutely! Here’s a straightforward, step-by-step plan to declutter and organize your workspace efficiently:\n\n**Step 1: Prepare and Set Goals**\n- Clear your schedule for a dedicated session (2-4 hours recommended).\n- Define your main goal: e.g., “Create a clean, functional workspace for increased productivity.”\n- Gather organizing supplies: boxes, labels, trash bag, cleaning supplies.\n\n**Step 2: Clear and Clean the Area**\n- Remove everything from your desk and nearby surfaces.\n- Dust, wipe down surfaces, and vacuum if needed.\n\n**Step 3: Sort Items into Categories**\nCreate piles or containers for:\n- Keep\n- Donate/Recycle\n- Trash/Discard\n- Relocate (items that belong elsewhere)\n\n**Step 4: Declutter**\n- Be honest: keep only what you use regularly or truly need.\n- Discard or donate outdated, broken, or unused items.\n\n**Step 5: Organize and Store**\n- Designate specific spots for essential items.\n- Use organizers, trays, or drawer dividers for small items.\n- Store infrequently used items out of the way but accessible if needed.\n- Label storage containers for easy identification.\n\n**Step 6: Optimize Workflow**\n- Arrange your desk so frequently used items are within arm’s reach.\n- Keep your workspace tidy daily—spend 5 minutes at the end of each day tidying up.\n\n**Step 7: Maintain**\n- Set a weekly reminder to review and tidy your workspace.\n- Regularly discard unnecessary clutter to keep your space organized long-term.\n\nWould you like tailored tips for specific items or workspace types?</td></tr></table>"
     },
     "metadata": {},
     "output_type": "display_data",
     "jetTransient": {
      "display_id": null
     }
    }
   ],
   "execution_count": 6
  },
  {
   "cell_type": "markdown",
   "metadata": {},
   "source": [
    "## 3. Add Constraints\n",
    "\n",
    "Let's add specific constraints to see how the model prioritizes tasks. Let's add a time constraint, a budget constraint, and other constraints that are important for you."
   ]
  },
  {
   "cell_type": "code",
   "metadata": {
    "ExecuteTime": {
     "end_time": "2025-11-01T17:24:03.861642Z",
     "start_time": "2025-10-05T20:13:51.011576Z"
    }
   },
   "source": [
    "# TODO: Write a constraints system prompt replacing the ***********\n",
    "constraints_system_prompt = f\"\"\" {role_system_prompt}. The plan must be achievable in one hour and require no purchases, using only existing household items.\"\"\"\n",
    "\n",
    "print(\"Sending prompt with constraints...\")\n",
    "constraints_response = get_completion(constraints_system_prompt, user_prompt)\n",
    "print(\"Response received!\\n\")\n",
    "\n",
    "# Show last two prompts and responses\n",
    "display_responses(\n",
    "    {\n",
    "        \"system_prompt\": role_system_prompt,\n",
    "        \"user_prompt\": user_prompt,\n",
    "        \"response\": role_response,\n",
    "    },\n",
    "    {\n",
    "        \"system_prompt\": constraints_system_prompt,\n",
    "        \"user_prompt\": user_prompt,\n",
    "        \"response\": constraints_response,\n",
    "    },\n",
    ")"
   ],
   "outputs": [
    {
     "name": "stdout",
     "output_type": "stream",
     "text": [
      "Sending prompt with constraints...\n",
      "Response received!\n",
      "\n"
     ]
    },
    {
     "data": {
      "text/plain": [
       "<IPython.core.display.Markdown object>"
      ],
      "text/markdown": "<table><tr><th>System Prompt:<br />You are an expert professional organizer and productivity coach<br /><br />User Prompt:<br />Give me a simple plan to declutter and organize my workspace.</th><th>System Prompt:<br /> You are an expert professional organizer and productivity coach. The plan must be achievable in one hour and require no purchases, using only existing household items.<br /><br />User Prompt:<br />Give me a simple plan to declutter and organize my workspace.</th></tr><tr><td>Response:<br />Absolutely! Here’s a straightforward, step-by-step plan to declutter and organize your workspace efficiently:\n\n**Step 1: Prepare and Set Goals**\n- Clear your schedule for a dedicated session (2-4 hours recommended).\n- Define your main goal: e.g., “Create a clean, functional workspace for increased productivity.”\n- Gather organizing supplies: boxes, labels, trash bag, cleaning supplies.\n\n**Step 2: Clear and Clean the Area**\n- Remove everything from your desk and nearby surfaces.\n- Dust, wipe down surfaces, and vacuum if needed.\n\n**Step 3: Sort Items into Categories**\nCreate piles or containers for:\n- Keep\n- Donate/Recycle\n- Trash/Discard\n- Relocate (items that belong elsewhere)\n\n**Step 4: Declutter**\n- Be honest: keep only what you use regularly or truly need.\n- Discard or donate outdated, broken, or unused items.\n\n**Step 5: Organize and Store**\n- Designate specific spots for essential items.\n- Use organizers, trays, or drawer dividers for small items.\n- Store infrequently used items out of the way but accessible if needed.\n- Label storage containers for easy identification.\n\n**Step 6: Optimize Workflow**\n- Arrange your desk so frequently used items are within arm’s reach.\n- Keep your workspace tidy daily—spend 5 minutes at the end of each day tidying up.\n\n**Step 7: Maintain**\n- Set a weekly reminder to review and tidy your workspace.\n- Regularly discard unnecessary clutter to keep your space organized long-term.\n\nWould you like tailored tips for specific items or workspace types?</td><td>Response:<br />Absolutely! Here's a simple, achievable 1-hour plan to declutter and organize your workspace using only household items:\n\n**0-10 Minutes: Clear the Surface**\n- Remove everything from your desk or workspace surface.\n- Quickly sort items into categories: Keep, Relocate, Discard.\n- Discard any trash or unnecessary items immediately.\n\n**10-20 Minutes: Clear Out Clutter and Unnecessary Items**\n- Review items in your “Keep” pile.\n- Identify items that don’t belong in your workspace (e.g., personal items, dishes) and relocate them.\n- Set aside items you no longer need or use regularly for discard or donation.\n\n**20-30 Minutes: Deep Clean the Space**\n- Wipe down your desk and any surfaces with a damp cloth or a cloth dampened with water.\n- Tackle any dust or dirt in corners or on shelves.\n\n**30-40 Minutes: Create Storage Zones Using Household Items**\n- Use empty jars, cups, or bowls to hold pens, pencils, and other small supplies.\n- Repurpose boxes, shoeboxes, or trays to organize papers, notebooks, or chargers.\n- Stack or group similar items together to create designated zones.\n\n**40-50 Minutes: Organize Items Back onto the Desk**\n- Place frequently used items within easy reach.\n- Store less-used items in drawers, boxes, or on shelves.\n- Keep your most important tools (e.g., computer, notepad) accessible.\n\n**50-60 Minutes: Final Touches**\n- Tidy up any remaining clutter around the workspace.\n- Adjust items so everything has a designated place.\n- Take a step back and ensure your workspace looks tidy, functional, and inviting.\n\n**Tip:** Maintain this organization by dedicating 5 minutes daily to keeping your workspace tidy.</td></tr></table>"
     },
     "metadata": {},
     "output_type": "display_data",
     "jetTransient": {
      "display_id": null
     }
    }
   ],
   "execution_count": 7
  },
  {
   "cell_type": "markdown",
   "metadata": {},
   "source": [
    "### Observations\n",
    "\n",
    "Note how the model:\n",
    "- Prioritizes tasks within the given timeframe\n",
    "- Works within the budget\n",
    "- Handles other constraints"
   ]
  },
  {
   "cell_type": "markdown",
   "metadata": {},
   "source": [
    "## 4. Request Step-by-Step Reasoning\n",
    "\n",
    "Now, let's ask the model to explain its reasoning and provide a final checklist."
   ]
  },
  {
   "cell_type": "code",
   "metadata": {
    "ExecuteTime": {
     "end_time": "2025-11-01T17:24:03.862694Z",
     "start_time": "2025-10-05T20:15:00.953722Z"
    }
   },
   "source": [
    "# TODO: Ask the LLM to explain its reasoning step by step, replacing the ***********\n",
    "reasoning_system_prompt = (\n",
    "    f\"{constraints_system_prompt}. Explain your reasoning for each step of the plan in a thoughtful way before presenting the final checklist.\"\n",
    ")\n",
    "\n",
    "print(\"Sending prompt with reasoning request...\")\n",
    "reasoning_response = get_completion(reasoning_system_prompt, user_prompt)\n",
    "print(\"Response received!\\n\")\n",
    "\n",
    "# Display the last two prompts and responses\n",
    "display_responses(\n",
    "    {\n",
    "        \"system_prompt\": constraints_system_prompt,\n",
    "        \"user_prompt\": user_prompt,\n",
    "        \"response\": constraints_response,\n",
    "    },\n",
    "    {\n",
    "        \"system_prompt\": reasoning_system_prompt,\n",
    "        \"user_prompt\": user_prompt,\n",
    "        \"response\": reasoning_response,\n",
    "    },\n",
    ")"
   ],
   "outputs": [
    {
     "name": "stdout",
     "output_type": "stream",
     "text": [
      "Sending prompt with reasoning request...\n",
      "Response received!\n",
      "\n"
     ]
    },
    {
     "data": {
      "text/plain": [
       "<IPython.core.display.Markdown object>"
      ],
      "text/markdown": "<table><tr><th>System Prompt:<br /> You are an expert professional organizer and productivity coach. The plan must be achievable in one hour and require no purchases, using only existing household items.<br /><br />User Prompt:<br />Give me a simple plan to declutter and organize my workspace.</th><th>System Prompt:<br /> You are an expert professional organizer and productivity coach. The plan must be achievable in one hour and require no purchases, using only existing household items.. Explain your reasoning for each step of the plan in a thoughtful way before presenting the final checklist.<br /><br />User Prompt:<br />Give me a simple plan to declutter and organize my workspace.</th></tr><tr><td>Response:<br />Absolutely! Here's a simple, achievable 1-hour plan to declutter and organize your workspace using only household items:\n\n**0-10 Minutes: Clear the Surface**\n- Remove everything from your desk or workspace surface.\n- Quickly sort items into categories: Keep, Relocate, Discard.\n- Discard any trash or unnecessary items immediately.\n\n**10-20 Minutes: Clear Out Clutter and Unnecessary Items**\n- Review items in your “Keep” pile.\n- Identify items that don’t belong in your workspace (e.g., personal items, dishes) and relocate them.\n- Set aside items you no longer need or use regularly for discard or donation.\n\n**20-30 Minutes: Deep Clean the Space**\n- Wipe down your desk and any surfaces with a damp cloth or a cloth dampened with water.\n- Tackle any dust or dirt in corners or on shelves.\n\n**30-40 Minutes: Create Storage Zones Using Household Items**\n- Use empty jars, cups, or bowls to hold pens, pencils, and other small supplies.\n- Repurpose boxes, shoeboxes, or trays to organize papers, notebooks, or chargers.\n- Stack or group similar items together to create designated zones.\n\n**40-50 Minutes: Organize Items Back onto the Desk**\n- Place frequently used items within easy reach.\n- Store less-used items in drawers, boxes, or on shelves.\n- Keep your most important tools (e.g., computer, notepad) accessible.\n\n**50-60 Minutes: Final Touches**\n- Tidy up any remaining clutter around the workspace.\n- Adjust items so everything has a designated place.\n- Take a step back and ensure your workspace looks tidy, functional, and inviting.\n\n**Tip:** Maintain this organization by dedicating 5 minutes daily to keeping your workspace tidy.</td><td>Response:<br />Certainly! A well-organized workspace can significantly boost your productivity and reduce stress. Since your goal is to declutter and organize within one hour and using only household items, I’ll design a straightforward, practical plan that is both efficient and achievable. \n\n**My reasoning:**  \n- **Time management:** One hour is a limited window, so I need a focused approach that tackles the most impactful areas first.  \n- **Minimal tools:** Using items you already have prevents delays or additional costs.  \n- **Step-by-step process:** Clear, simple steps help prevent overwhelm and keep you on track.  \n- **Prioritize functionality:** Organizing for ease of access and reducing clutter will make your workspace more usable immediately.\n\n---\n\n### Step-by-step Decluttering & Organizing Plan (1 Hour)\n\n**1. Set a timer and prepare your space (5 minutes)**  \n- Quickly clear your mind and set a timer for each segment.  \n- Gather any household containers (like bowls, jars, shoeboxes, or even stacks of paper towels) that can serve as temporary organizers.  \n- Clear a flat surface to work on, such as your desk or a large table.\n\n**Reasoning:** Establishing a focused start helps you stay on track, and gathering containers avoids searching for organizing tools mid-process.\n\n---\n\n**2. Remove all non-essential items (10 minutes)**  \n- Pick up everything from your workspace that doesn’t belong there—trash, dishes, personal items, or anything not related to your work.  \n- Quickly sort out items you need to keep, but temporarily set aside anything that can be stored elsewhere (like books, papers, supplies).\n\n**Reasoning:** Removing distractions and irrelevant clutter creates a blank slate, making it easier to see what needs organizing.\n\n---\n\n**3. Clear and categorize (15 minutes)**  \n- Group similar items together:  \n  - Office supplies (pens, paper, stapler, etc.)  \n  - Documents or papers  \n  - Electronic accessories (chargers, cables)  \n  - Personal items (water bottle, snacks)  \n- Use household containers or make-shift dividers to separate these groups. For example, use bowls or jars for small items, or stack papers neatly.\n\n**Reasoning:** Categorization reduces chaos and makes it easier to assign specific homes for each item.\n\n---\n\n**4. Purge and simplify (10 minutes)**  \n- Within each category, quickly discard anything broken, outdated, or unnecessary (e.g., old papers, expired supplies).  \n- Keep only what you actively use or need regularly.  \n\n**Reasoning:** Removing excess clutter prevents future mess and keeps your workspace functional.\n\n---\n\n**5. Find homes and organize (10 minutes)**  \n- Assign specific spots for each category:  \n  - Use the containers you've gathered to store small items.  \n  - Stack papers in a neat pile or file them if you have existing folders (or create a quick one with paper or cardboard).  \n  - Place frequently used items within arm’s reach, and less-used items further away or in a drawer.  \n- Tuck cords and cables neatly—coil them and secure with a household item like a rubber band or twist tie if available.\n\n**Reasoning:** Proper placement maintains order, minimizes clutter, and improves access.\n\n---\n\n**6. Final tidy-up and review (10 minutes)**  \n- Wipe down your desk with a cloth or paper towel if needed.  \n- Take a moment to review your work—are items easily accessible? Is the surface clear?  \n- Put away any remaining items in their designated spots or in nearby storage.\n\n**Reasoning:** A quick review ensures your workspace is truly organized and ready for use.\n\n---\n\n### Final Checklist:\n- [ ] Set a timer and prepare your space  \n- [ ] Remove all non-essential items and clutter  \n- [ ] Group similar items into categories  \n- [ ] Purge unnecessary items  \n- [ ] Assign homes for each category using household containers or spaces  \n- [ ] Coil and store cords neatly  \n- [ ] Wipe down and tidy the workspace  \n- [ ] Review and ensure everything is functional and accessible\n\n---\n\nThis plan emphasizes quick action, minimal tools, and maximizing existing household items. It’s designed to leave you with a cleaner, more functional workspace in just one hour.</td></tr></table>"
     },
     "metadata": {},
     "output_type": "display_data",
     "jetTransient": {
      "display_id": null
     }
    }
   ],
   "execution_count": 8
  },
  {
   "cell_type": "markdown",
   "metadata": {},
   "source": [
    "### Observations\n",
    "\n",
    "Examine the chain of thought for:\n",
    "- Clarity of reasoning\n",
    "- Logical progression, or lack thereof\n",
    "- How constraints may have affected decision-making\n",
    "- Additional insights provided by the reasoning"
   ]
  },
  {
   "cell_type": "markdown",
   "metadata": {},
   "source": [
    "## 5. Reflection & Transfer\n",
    "\n",
    "Let's reflect on what we've learned from this exercise."
   ]
  },
  {
   "cell_type": "markdown",
   "metadata": {},
   "source": [
    "### Which prompt tweak changed the output most dramatically and why?\n",
    "\n",
    "Use this cell to jot down your thoughts: Both the constraints and reasoning prompts changed the output significantly in this case. Both of them had a plan at the beginning. The reasoning one expanded this section and actually kept the main response relatively short, and it also added a checklist."
   ]
  },
  {
   "cell_type": "markdown",
   "metadata": {},
   "source": [
    "### List two other situations where the same prompt-refinement pattern could help\n",
    "\n",
    "`TODO: Replace the ***********`\n",
    "1. `***********`\n",
    "2. `***********`"
   ]
  },
  {
   "cell_type": "markdown",
   "metadata": {},
   "source": [
    "## Bonus: Apply what you've learned\n",
    "\n",
    "Try crafting a prompt for one of your own ideas or even a different organization task (e.g., digital file cleanup, closet overhaul)!"
   ]
  },
  {
   "cell_type": "code",
   "metadata": {
    "ExecuteTime": {
     "end_time": "2025-11-01T17:24:03.863091Z",
     "start_time": "2025-10-05T20:15:31.322349Z"
    }
   },
   "source": [
    "# Create your own prompts here!\n",
    "\n",
    "# TODO: Replace the ***********\n",
    "custom_system_prompt = \"\"\"\n",
    "***********\n",
    "\"\"\"\n",
    "user_prompt = \"\"\"\n",
    "***********\n",
    "\"\"\"\n",
    "\n",
    "# Uncomment the lines below to run your custom prompt\n",
    "print(\"Sending custom prompt...\")\n",
    "custom_response = get_completion(custom_system_prompt, user_prompt)\n",
    "print(\"Response received!\\n\")\n",
    "\n",
    "display_responses(\n",
    "    {\n",
    "        \"system_prompt\": custom_system_prompt,\n",
    "        \"user_prompt\": user_prompt,\n",
    "        \"response\": custom_response,\n",
    "    }\n",
    ")"
   ],
   "outputs": [
    {
     "name": "stdout",
     "output_type": "stream",
     "text": [
      "Sending custom prompt...\n",
      "Response received!\n",
      "\n"
     ]
    },
    {
     "data": {
      "text/plain": [
       "<IPython.core.display.Markdown object>"
      ],
      "text/markdown": "<table><tr><th>System Prompt:<br />\n***********\n<br /><br />User Prompt:<br />\n***********\n</th></tr><tr><td>Response:<br />Hello! How can I assist you today?</td></tr></table>"
     },
     "metadata": {},
     "output_type": "display_data",
     "jetTransient": {
      "display_id": null
     }
    }
   ],
   "execution_count": 9
  },
  {
   "cell_type": "markdown",
   "metadata": {},
   "source": [
    "## Summary\n",
    "\n",
    "In this exercise, we explored how different prompt refinements affect the output of an LLM:\n",
    "\n",
    "1. **Generic Prompt**: We started with a simple request for a workspace organization plan.\n",
    "2. **Professional Role**: We added a specific role to enhance expertise and authority.\n",
    "3. **Concrete Constraints**: We introduced specific limitations that required prioritization.\n",
    "4. **Step-by-Step Reasoning**: We requested explicit reasoning to understand the model's thought process.\n",
    "\n",
    "These techniques demonstrate how prompt engineering can significantly improve the usefulness and relevance of AI-generated content for specific needs.\n",
    "\n",
    "Excellent Work! 🚀"
   ]
  },
  {
   "metadata": {},
   "cell_type": "code",
   "outputs": [],
   "execution_count": null,
   "source": ""
  }
 ],
 "metadata": {
  "kernelspec": {
   "display_name": "Python 3 (ipykernel)",
   "language": "python",
   "name": "python3"
  },
  "language_info": {
   "codemirror_mode": {
    "name": "ipython",
    "version": 3
   },
   "file_extension": ".py",
   "mimetype": "text/x-python",
   "name": "python",
   "nbconvert_exporter": "python",
   "pygments_lexer": "ipython3",
   "version": "3.13.3"
  }
 },
 "nbformat": 4,
 "nbformat_minor": 4
}
